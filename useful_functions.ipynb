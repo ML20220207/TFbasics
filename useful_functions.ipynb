{
  "nbformat": 4,
  "nbformat_minor": 0,
  "metadata": {
    "colab": {
      "name": "useful functions.ipynb",
      "provenance": [],
      "authorship_tag": "ABX9TyPwq2BOOkBOgzroqwgyoLx0",
      "include_colab_link": true
    },
    "kernelspec": {
      "name": "python3",
      "display_name": "Python 3"
    },
    "language_info": {
      "name": "python"
    }
  },
  "cells": [
    {
      "cell_type": "markdown",
      "metadata": {
        "id": "view-in-github",
        "colab_type": "text"
      },
      "source": [
        "<a href=\"https://colab.research.google.com/github/ML20220207/TFbasics/blob/main/useful_functions.ipynb\" target=\"_parent\"><img src=\"https://colab.research.google.com/assets/colab-badge.svg\" alt=\"Open In Colab\"/></a>"
      ]
    },
    {
      "cell_type": "markdown",
      "source": [
        "[image_data_modification](https://github.com/mrdbourke/tensorflow-deep-learning/blob/main/extras/image_data_modification.ipynb)\n",
        "\n"
      ],
      "metadata": {
        "id": "ORabsNZNo8r2"
      }
    },
    {
      "cell_type": "markdown",
      "source": [
        "[help functions](https://github.com/mrdbourke/tensorflow-deep-learning/blob/main/extras/helper_functions.py)\n"
      ],
      "metadata": {
        "id": "YvebTp2Aynib"
      }
    }
  ]
}