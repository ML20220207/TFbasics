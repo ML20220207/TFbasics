{
  "nbformat": 4,
  "nbformat_minor": 0,
  "metadata": {
    "colab": {
      "name": "00python.ipynb",
      "provenance": [],
      "authorship_tag": "ABX9TyNgUNtb5n474qy61Ivqa1DV",
      "include_colab_link": true
    },
    "kernelspec": {
      "name": "python3",
      "display_name": "Python 3"
    },
    "language_info": {
      "name": "python"
    }
  },
  "cells": [
    {
      "cell_type": "markdown",
      "metadata": {
        "id": "view-in-github",
        "colab_type": "text"
      },
      "source": [
        "<a href=\"https://colab.research.google.com/github/ML20220207/TFbasics/blob/main/00python.ipynb\" target=\"_parent\"><img src=\"https://colab.research.google.com/assets/colab-badge.svg\" alt=\"Open In Colab\"/></a>"
      ]
    },
    {
      "cell_type": "code",
      "execution_count": null,
      "metadata": {
        "id": "Y27s784_Hq0l"
      },
      "outputs": [],
      "source": [
        ""
      ]
    },
    {
      "cell_type": "markdown",
      "source": [
        "## Pandas:\n",
        "\n",
        "1. [Pandas essential basic functionality](https://pandas.pydata.org/pandas-docs/stable/user_guide/basics.html)\n",
        "\n",
        "1. see [Pandas getting started tutorial](https://pandas.pydata.org/pandas-docs/stable/getting_started/intro_tutorials/index.html) for the following questions\n",
        "\n",
        "What kind of data does pandas handle?\n",
        "\n",
        "How do I read and write tabular data?\n",
        "\n",
        "How do I select a subset of a DataFrame?\n",
        "\n",
        "How to create plots in pandas?\n",
        "\n",
        "How to create new columns derived from existing columns?\n",
        "\n",
        "How to calculate summary statistics?\n",
        "\n",
        "How to reshape the layout of tables?\n",
        "\n",
        "How to combine data from multiple tables?\n",
        "\n",
        "How to handle time series data with ease?\n",
        "\n",
        "How to manipulate textual data?\n"
      ],
      "metadata": {
        "id": "7dGb9vVRK0VC"
      }
    },
    {
      "cell_type": "markdown",
      "source": [
        "https://github.com/mrdbourke/zero-to-mastery-ml/blob/master/section-2-data-science-and-ml-tools/introduction-to-pandas.ipynb\n"
      ],
      "metadata": {
        "id": "_3AuYxm7LStG"
      }
    },
    {
      "cell_type": "markdown",
      "source": [
        "## Matplotlib\n",
        "https://github.com/mrdbourke/zero-to-mastery-ml/blob/master/section-2-data-science-and-ml-tools/introduction-to-matplotlib-video.ipynb"
      ],
      "metadata": {
        "id": "B6OAUk6HMIte"
      }
    },
    {
      "cell_type": "markdown",
      "source": [
        "## sklearn\n",
        "https://github.com/mrdbourke/zero-to-mastery-ml/blob/master/section-2-data-science-and-ml-tools/introduction-to-scikit-learn.ipynb"
      ],
      "metadata": {
        "id": "SWXCT1_ZQAKF"
      }
    },
    {
      "cell_type": "markdown",
      "source": [
        "## Lambda"
      ],
      "metadata": {
        "id": "BFESDnI7RaB2"
      }
    }
  ]
}